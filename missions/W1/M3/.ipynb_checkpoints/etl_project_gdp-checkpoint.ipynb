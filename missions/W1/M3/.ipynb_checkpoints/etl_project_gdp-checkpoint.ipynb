{
 "cells": [
  {
   "cell_type": "code",
   "execution_count": 9,
   "id": "902f2394-85c9-4386-bfbb-fd2d6b751bad",
   "metadata": {},
   "outputs": [
    {
     "name": "stdout",
     "output_type": "stream",
     "text": [
      "Requirement already satisfied: BeautifulSoup4 in /opt/miniconda3/lib/python3.9/site-packages (4.12.3)\n",
      "Requirement already satisfied: soupsieve>1.2 in /opt/miniconda3/lib/python3.9/site-packages (from BeautifulSoup4) (2.6)\n"
     ]
    }
   ],
   "source": [
    "!pip install BeautifulSoup4"
   ]
  },
  {
   "cell_type": "code",
   "execution_count": 1,
   "id": "535a4858-640f-47bd-9a1c-4f0c4f89c40a",
   "metadata": {},
   "outputs": [],
   "source": [
    "from bs4 import BeautifulSoup\n",
    "import requests\n",
    "import pandas as pd\n",
    "from datetime import datetime\n",
    "import os\n",
    "import logging"
   ]
  },
  {
   "cell_type": "code",
   "execution_count": 2,
   "id": "4f8553c7-87da-4e68-b85a-355c76caf17b",
   "metadata": {},
   "outputs": [],
   "source": [
    "class Logger:\n",
    "    def __init__(self):\n",
    "        self.logger = logging.getLogger()\n",
    "        logfileName = 'etl_project_log.txt'\n",
    "        log_format = '%(asctime)s, %(message)s'\n",
    "\n",
    "        if len(self.logger.handlers) == 0:\n",
    "            date_format = \"%Y-%b-%d-%H-%M-%S\"\n",
    "            file_handler = logging.FileHandler(logfileName, mode='a')\n",
    "            file_handler.setFormatter(logging.Formatter(log_format, datefmt = date_format))\n",
    "    \n",
    "            self.logger.setLevel(logging.INFO)\n",
    "            self.logger.addHandler(file_handler)\n",
    "\n",
    "    def info(self,value):\n",
    "        self.logger.info(value)\n",
    "            \n",
    "        "
   ]
  },
  {
   "cell_type": "code",
   "execution_count": 3,
   "id": "7a6fcb70-d676-4b47-8152-b8c055f0ab89",
   "metadata": {},
   "outputs": [],
   "source": [
    "# web scaping 방식을 통해 wikipeida 홈페이지에서 데이터 추출 하는 함수\n",
    "def extract_data():\n",
    "    log(\"Extract : start\")\n",
    "    url = \"https://en.wikipedia.org/wiki/List_of_countries_by_GDP_%28nominal%29\"\n",
    "    response = requests.get(url)\n",
    "    raw_data = []\n",
    "    \n",
    "    if response.status_code == 200:\n",
    "        html = response.text\n",
    "        # 문자열로 된 객체를 python object로 변환하는 과정\n",
    "        soup = BeautifulSoup(html, 'html.parser')\n",
    "        tbody = soup.select('table.wikitable > tbody')\n",
    "\n",
    "        rank = 0\n",
    "        for table in tbody:\n",
    "            rows = table.find_all('tr')\n",
    "            for row in rows:\n",
    "                columns = row.find_all('td')\n",
    "                if len(columns) > 1:\n",
    "                    # <sup> 태그와 같은 필요없는 태그 제거하기\n",
    "                    for column in columns:\n",
    "                        for tag in column.find_all('sup'):\n",
    "                            tag.decompose()\n",
    "                    \n",
    "                    country = columns[0].get_text(strip = True)\n",
    "                    gdp = columns[1].get_text(strip = True)\n",
    "                    year = columns[2].get_text(strip = True)\n",
    "\n",
    "                    # 없는 데이터 처리하기\n",
    "                    if gdp == '—' :\n",
    "                        gdp = None\n",
    "                        year = None\n",
    "\n",
    "                    raw_data.append([rank, country, gdp, year])\n",
    "\n",
    "                    # tr before태그는 beautifulsoup으로 가져오지 못해\n",
    "                    # rank를 직접 더해주기\n",
    "                    # 데이터가 없으면 rank 상승 x\n",
    "                    if None not in (rank, country, gdp, year):\n",
    "                        rank += 1\n",
    "                        \n",
    "        log(\"Extract : end\")\n",
    "        return raw_data\n",
    "    else :\n",
    "        log(\"Extract : end\")\n",
    "        print(response.status_code)\n",
    "        return []"
   ]
  },
  {
   "cell_type": "code",
   "execution_count": 4,
   "id": "fe0dd111-6adc-4f34-8684-29d1b14a37ff",
   "metadata": {},
   "outputs": [],
   "source": [
    "# 국가별 GDP 단위를 million USD -> billion USD 변환\n",
    "# Region을 찾아 입력\n",
    "def transform_data(raw_data):\n",
    "    log(\"Transform : start\")\n",
    "    df = pd.DataFrame(raw_data, columns = [\"Rank\", \"Country\", \"GDP_USD_billion\", \"Year\"])\n",
    "    transformed_data = []\n",
    "\n",
    "    df[\"GDP_USD_billion\"] = df[\"GDP_USD_billion\"].replace(\",\",\"\",regex = True).astype(float, errors=\"ignore\").div(1000).round(2)\n",
    "    log(\"Transform : end\")\n",
    "    return df"
   ]
  },
  {
   "cell_type": "code",
   "execution_count": 5,
   "id": "80d173df-b672-40e8-9686-e1567182c0fb",
   "metadata": {},
   "outputs": [],
   "source": [
    "def load_data(dataframe):\n",
    "    log(\"Load : start\")\n",
    "    fileName = 'db.json'\n",
    "    dataframe.to_json(fileName, orient = 'index', indent = 4)\n",
    "    log(\"Load : end\")"
   ]
  },
  {
   "cell_type": "code",
   "execution_count": 6,
   "id": "1ed214a5-d8f2-4426-bacc-2ac240a54375",
   "metadata": {},
   "outputs": [],
   "source": [
    "def log(message):\n",
    "    Log = Logger()\n",
    "    Log.info(message)\n",
    "    "
   ]
  },
  {
   "cell_type": "code",
   "execution_count": 7,
   "id": "482af13e-aee9-45e0-8fc1-3fbeddeb0a05",
   "metadata": {},
   "outputs": [],
   "source": [
    "def print_screen():\n",
    "    fileName = 'db.json'\n",
    "    df = pd.read_json(fileName, orient = 'index')\n",
    "\n",
    "    print(\"<< GDP가 100B USD이상이 되는 국가만 출력 >>\")\n",
    "    print()\n",
    "    print(df[df['GDP_USD_billion'] >= 100])\n",
    "    print()\n",
    "\n",
    "    print(\"<< 각 Region별로 top5 국가의 GDP 평균>>\")\n",
    "    "
   ]
  },
  {
   "cell_type": "code",
   "execution_count": 9,
   "id": "d08f3ac6-13ed-4902-a653-e933011bb36d",
   "metadata": {},
   "outputs": [
    {
     "name": "stdout",
     "output_type": "stream",
     "text": [
      "<< GDP가 100B USD이상이 되는 국가만 출력 >>\n",
      "\n",
      "    Rank        Country  GDP_USD_billion    Year\n",
      "0      0          World        115494.31  2025.0\n",
      "1      1  United States         30337.16  2025.0\n",
      "2      2          China         19534.89  2025.0\n",
      "3      3        Germany          4921.56  2025.0\n",
      "4      4          Japan          4389.33  2025.0\n",
      "..   ...            ...              ...     ...\n",
      "69    68     Uzbekistan           112.65  2024.0\n",
      "70    69      Guatemala           112.37  2024.0\n",
      "71    70           Oman           109.99  2024.0\n",
      "72    71       Bulgaria           108.42  2024.0\n",
      "73    72      Venezuela           106.33  2024.0\n",
      "\n",
      "[73 rows x 4 columns]\n",
      "\n",
      "<< 각 Region별로 top5 국가의 GDP 평균>>\n"
     ]
    }
   ],
   "source": [
    "# 전체 과정의 함수\n",
    "def ETL():\n",
    "    raw_data = extract_data()\n",
    "    transformed_data = transform_data(raw_data)\n",
    "    load_data(transformed_data)\n",
    "    print_screen()\n",
    "    \n",
    "ETL()"
   ]
  },
  {
   "cell_type": "code",
   "execution_count": null,
   "id": "ae49db75-d2f7-4388-8ec0-d40f8144eefe",
   "metadata": {},
   "outputs": [],
   "source": []
  }
 ],
 "metadata": {
  "kernelspec": {
   "display_name": "Python 3 (ipykernel)",
   "language": "python",
   "name": "python3"
  },
  "language_info": {
   "codemirror_mode": {
    "name": "ipython",
    "version": 3
   },
   "file_extension": ".py",
   "mimetype": "text/x-python",
   "name": "python",
   "nbconvert_exporter": "python",
   "pygments_lexer": "ipython3",
   "version": "3.9.18"
  }
 },
 "nbformat": 4,
 "nbformat_minor": 5
}
